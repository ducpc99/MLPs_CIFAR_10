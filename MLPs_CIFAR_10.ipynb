{
  "nbformat": 4,
  "nbformat_minor": 0,
  "metadata": {
    "colab": {
      "provenance": [],
      "gpuType": "T4",
      "include_colab_link": true
    },
    "kernelspec": {
      "name": "python3",
      "display_name": "Python 3"
    },
    "language_info": {
      "name": "python"
    },
    "accelerator": "GPU"
  },
  "cells": [
    {
      "cell_type": "markdown",
      "metadata": {
        "id": "view-in-github",
        "colab_type": "text"
      },
      "source": [
        "<a href=\"https://colab.research.google.com/github/ducpc99/MLPs_CIFAR_10/blob/main/MLPs_CIFAR_10.ipynb\" target=\"_parent\"><img src=\"https://colab.research.google.com/assets/colab-badge.svg\" alt=\"Open In Colab\"/></a>"
      ]
    },
    {
      "cell_type": "code",
      "execution_count": null,
      "metadata": {
        "id": "TuRNFkCP_vLf"
      },
      "outputs": [],
      "source": [
        "import torch\n",
        "import torch.nn as nn\n",
        "import torch.optim as optim\n",
        "from torch.utils.data import DataLoader\n",
        "import torchvision.transforms as transforms\n",
        "import torchvision.datasets as datasets"
      ]
    },
    {
      "cell_type": "markdown",
      "source": [
        "## Data Preparation"
      ],
      "metadata": {
        "id": "koHiFHSaiL-g"
      }
    },
    {
      "cell_type": "code",
      "source": [
        "transform = transforms.Compose([\n",
        "    transforms.RandomHorizontalFlip(),\n",
        "    transforms.RandomCrop(32, padding=4),\n",
        "    transforms.ToTensor(),\n",
        "    transforms.Normalize((0.5, 0.5, 0.5), (0.5, 0.5, 0.5))\n",
        "])\n",
        "\n",
        "\n",
        "train_data = datasets.CIFAR10(root='./data', train=True, download=True, transform=transform)\n",
        "test_data = datasets.CIFAR10(root='./data', train=False, download=True, transform=transform)\n",
        "\n",
        "# Thiết lập tham số\n",
        "batch_size = 128\n",
        "weight_decay = 1e-4\n",
        "dropout_rate = 0.5\n",
        "\n",
        "# Tạo DataLoader với batch_size mới\n",
        "train_loader = DataLoader(train_data, batch_size=batch_size, shuffle=True)\n",
        "test_loader = DataLoader(test_data, batch_size=batch_size, shuffle=False)"
      ],
      "metadata": {
        "colab": {
          "base_uri": "https://localhost:8080/"
        },
        "id": "YM-Exuk0_9a4",
        "outputId": "7dc66aff-93b0-4ada-9341-8748d19e4550"
      },
      "execution_count": null,
      "outputs": [
        {
          "output_type": "stream",
          "name": "stdout",
          "text": [
            "Files already downloaded and verified\n",
            "Files already downloaded and verified\n"
          ]
        }
      ]
    },
    {
      "cell_type": "markdown",
      "source": [
        "## Define MLPs"
      ],
      "metadata": {
        "id": "ryl_3emnie23"
      }
    },
    {
      "cell_type": "code",
      "source": [
        "class MLP(nn.Module):\n",
        "    def __init__(self, hidden_layers=3, hidden_units=1024, dropout_rate=0.5):\n",
        "        super(MLP, self).__init__()\n",
        "        self.input_layer = nn.Linear(32*32*3, hidden_units)\n",
        "        self.hidden_layers = nn.ModuleList([nn.Linear(hidden_units, hidden_units) for _ in range(hidden_layers)])\n",
        "        self.output_layer = nn.Linear(hidden_units, 10)\n",
        "        self.activation = nn.ReLU()\n",
        "        self.dropout = nn.Dropout(dropout_rate)\n",
        "\n",
        "    def forward(self, x):\n",
        "        x = x.view(-1, 32*32*3)\n",
        "        x = self.activation(self.input_layer(x))\n",
        "        x = self.dropout(x)\n",
        "        for layer in self.hidden_layers:\n",
        "            x = self.activation(layer(x))\n",
        "            x = self.dropout(x)\n",
        "        x = self.output_layer(x)\n",
        "        return x"
      ],
      "metadata": {
        "id": "W3IrMiry_9c9"
      },
      "execution_count": null,
      "outputs": []
    },
    {
      "cell_type": "markdown",
      "source": [
        "## Model Training and Evaluation"
      ],
      "metadata": {
        "id": "C4kZXX1Fix03"
      }
    },
    {
      "cell_type": "code",
      "source": [
        "def train_model(model, train_loader, criterion, optimizer, scheduler, epochs):\n",
        "    model.train()\n",
        "    for epoch in range(epochs):\n",
        "        running_loss = 0.0\n",
        "        for images, labels in train_loader:\n",
        "            images, labels = images.to(device), labels.to(device)\n",
        "\n",
        "            optimizer.zero_grad()\n",
        "            outputs = model(images)\n",
        "            loss = criterion(outputs, labels)\n",
        "            loss.backward()\n",
        "            optimizer.step()\n",
        "\n",
        "            running_loss += loss.item()\n",
        "\n",
        "        # Cập nhật scheduler\n",
        "        scheduler.step()\n",
        "\n",
        "        # Tính loss trung bình và in ra\n",
        "        avg_loss = running_loss / len(train_loader)\n",
        "        print(f\"Epoch [{epoch+1}/{epochs}], Loss: {avg_loss:.4f}\")\n",
        "\n",
        "        # Đánh giá độ chính xác trên tập kiểm tra mỗi 5 epochs\n",
        "        if (epoch + 1) % 5 == 0:\n",
        "            accuracy = evaluate_model(model, test_loader)\n",
        "            print(f\"Validation Accuracy after Epoch {epoch+1}: {accuracy:.2f}%\\n\")\n",
        "\n",
        "def evaluate_model(model, test_loader):\n",
        "    model.eval()\n",
        "    correct, total = 0, 0\n",
        "    with torch.no_grad():\n",
        "        for images, labels in test_loader:\n",
        "            images, labels = images.to(device), labels.to(device)\n",
        "            outputs = model(images)\n",
        "            _, predicted = torch.max(outputs, 1)\n",
        "            total += labels.size(0)\n",
        "            correct += (predicted == labels).sum().item()\n",
        "    accuracy = correct / total * 100  # Tính độ chính xác theo %\n",
        "    return accuracy"
      ],
      "metadata": {
        "id": "gR1pzWKs_9fD"
      },
      "execution_count": null,
      "outputs": []
    },
    {
      "cell_type": "markdown",
      "source": [
        "## Device Setup"
      ],
      "metadata": {
        "id": "qslzcOQCjBkK"
      }
    },
    {
      "cell_type": "code",
      "source": [
        "device = torch.device(\"cuda\" if torch.cuda.is_available() else \"cpu\")\n",
        "print(\"Using device:\", device)\n",
        "model = MLP(hidden_layers=3, hidden_units=1024, dropout_rate=dropout_rate).to(device)\n",
        "\n",
        "if device.type == \"cuda\":\n",
        "    print(torch.cuda.get_device_name(0))"
      ],
      "metadata": {
        "colab": {
          "base_uri": "https://localhost:8080/"
        },
        "id": "m-wtVz_4B-mC",
        "outputId": "aeed8f95-ffde-4972-d467-a450161e27e9"
      },
      "execution_count": null,
      "outputs": [
        {
          "output_type": "stream",
          "name": "stdout",
          "text": [
            "Using device: cuda\n",
            "Tesla T4\n"
          ]
        }
      ]
    },
    {
      "cell_type": "markdown",
      "source": [
        "## Model Initialization and Training"
      ],
      "metadata": {
        "id": "4wELwb4BjERE"
      }
    },
    {
      "cell_type": "code",
      "source": [
        "# Khởi tạo model với dropout\n",
        "model = MLP(hidden_layers=2, hidden_units=512, dropout_rate=dropout_rate).to(device)\n",
        "epochs = 50  # Tăng số lượng epoch\n",
        "learning_rate = 0.0001  # Giảm learning rate để mô hình học chậm hơn và ổn định hơn\n",
        "gamma = 0.5\n",
        "optimizer = optim.Adam(model.parameters(), lr=learning_rate, weight_decay=weight_decay)\n",
        "scheduler = optim.lr_scheduler.StepLR(optimizer, step_size=20, gamma=gamma)\n",
        "# Khởi tạo optimizer với weight decay\n",
        "criterion = nn.CrossEntropyLoss()\n",
        "train_model(model, train_loader, criterion, optimizer, scheduler, epochs)\n",
        "evaluate_model(model, test_loader)\n"
      ],
      "metadata": {
        "colab": {
          "base_uri": "https://localhost:8080/"
        },
        "id": "xSJHj6vC_9hB",
        "outputId": "63fe781a-332f-466a-aedf-7c5b808599d0"
      },
      "execution_count": null,
      "outputs": [
        {
          "output_type": "stream",
          "name": "stdout",
          "text": [
            "Epoch [1/50], Loss: 2.0594\n",
            "Epoch [2/50], Loss: 1.8894\n",
            "Epoch [3/50], Loss: 1.8198\n",
            "Epoch [4/50], Loss: 1.7789\n",
            "Epoch [5/50], Loss: 1.7484\n",
            "Validation Accuracy after Epoch 5: 42.02%\n",
            "\n",
            "Epoch [6/50], Loss: 1.5963\n",
            "Epoch [7/50], Loss: 1.5440\n",
            "Epoch [8/50], Loss: 1.5038\n",
            "Epoch [9/50], Loss: 1.4749\n",
            "Epoch [10/50], Loss: 1.4456\n",
            "Validation Accuracy after Epoch 10: 48.29%\n",
            "\n",
            "Epoch [11/50], Loss: 1.4240\n",
            "Epoch [12/50], Loss: 1.4012\n",
            "Epoch [13/50], Loss: 1.3861\n",
            "Epoch [14/50], Loss: 1.3681\n",
            "Epoch [15/50], Loss: 1.3536\n",
            "Validation Accuracy after Epoch 15: 51.93%\n",
            "\n",
            "Epoch [16/50], Loss: 1.3400\n",
            "Epoch [17/50], Loss: 1.3280\n",
            "Epoch [18/50], Loss: 1.3119\n",
            "Epoch [19/50], Loss: 1.2984\n",
            "Epoch [20/50], Loss: 1.2918\n",
            "Validation Accuracy after Epoch 20: 52.90%\n",
            "\n",
            "Epoch [21/50], Loss: 1.2570\n",
            "Epoch [22/50], Loss: 1.2475\n",
            "Epoch [23/50], Loss: 1.2408\n",
            "Epoch [24/50], Loss: 1.2300\n",
            "Epoch [25/50], Loss: 1.2290\n",
            "Validation Accuracy after Epoch 25: 54.46%\n",
            "\n",
            "Epoch [26/50], Loss: 1.2186\n",
            "Epoch [27/50], Loss: 1.2140\n",
            "Epoch [28/50], Loss: 1.2091\n",
            "Epoch [29/50], Loss: 1.2032\n",
            "Epoch [30/50], Loss: 1.1994\n",
            "Validation Accuracy after Epoch 30: 55.17%\n",
            "\n",
            "Epoch [31/50], Loss: 1.1920\n",
            "Epoch [32/50], Loss: 1.1897\n",
            "Epoch [33/50], Loss: 1.1838\n",
            "Epoch [34/50], Loss: 1.1781\n",
            "Epoch [35/50], Loss: 1.1717\n",
            "Validation Accuracy after Epoch 35: 56.31%\n",
            "\n",
            "Epoch [36/50], Loss: 1.1692\n",
            "Epoch [37/50], Loss: 1.1643\n",
            "Epoch [38/50], Loss: 1.1590\n",
            "Epoch [39/50], Loss: 1.1553\n",
            "Epoch [40/50], Loss: 1.1533\n",
            "Validation Accuracy after Epoch 40: 56.77%\n",
            "\n",
            "Epoch [41/50], Loss: 1.1341\n",
            "Epoch [42/50], Loss: 1.1291\n",
            "Epoch [43/50], Loss: 1.1210\n",
            "Epoch [44/50], Loss: 1.1180\n",
            "Epoch [45/50], Loss: 1.1207\n",
            "Validation Accuracy after Epoch 45: 57.42%\n",
            "\n",
            "Epoch [46/50], Loss: 1.1158\n",
            "Epoch [47/50], Loss: 1.1153\n",
            "Epoch [48/50], Loss: 1.1143\n",
            "Epoch [49/50], Loss: 1.1131\n",
            "Epoch [50/50], Loss: 1.1074\n",
            "Validation Accuracy after Epoch 50: 57.26%\n",
            "\n"
          ]
        },
        {
          "output_type": "execute_result",
          "data": {
            "text/plain": [
              "57.15"
            ]
          },
          "metadata": {},
          "execution_count": 6
        }
      ]
    }
  ]
}